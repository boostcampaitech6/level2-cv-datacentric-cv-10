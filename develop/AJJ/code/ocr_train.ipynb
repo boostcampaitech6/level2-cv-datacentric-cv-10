{
 "cells": [
  {
   "cell_type": "markdown",
   "metadata": {},
   "source": [
    "# Conventional args\n",
    "    parser.add_argument('--data_dir', type=str,\n",
    "                        default=os.environ.get('SM_CHANNEL_TRAIN', '../../../data/medical'))\n",
    "    parser.add_argument('--model_dir', type=str, default=os.environ.get('SM_MODEL_DIR',\n",
    "                                                                        'trained_models'))\n",
    "\n",
    "    parser.add_argument('--device', default='cuda' if cuda.is_available() else 'cpu')\n",
    "    parser.add_argument('--num_workers', type=int, default=8)\n",
    "\n",
    "    parser.add_argument('--image_size', type=int, default=2048)\n",
    "    parser.add_argument('--input_size', type=int, default=1024)\n",
    "    parser.add_argument('--batch_size', type=int, default=8)\n",
    "    parser.add_argument('--learning_rate', type=float, default=1e-3)\n",
    "    parser.add_argument('--max_epoch', type=int, default=150)\n",
    "    parser.add_argument('--save_interval', type=int, default=5)\n",
    "    parser.add_argument('--ignore_tags', type=list, default=['masked', 'excluded-region', 'maintable', 'stamp'])\n"
   ]
  },
  {
   "cell_type": "code",
   "execution_count": 3,
   "metadata": {},
   "outputs": [
    {
     "name": "stdout",
     "output_type": "stream",
     "text": [
      "\u001b[34m\u001b[1mwandb\u001b[0m: W&B API key is configured. Use \u001b[1m`wandb login --relogin`\u001b[0m to force relogin\n",
      "\u001b[34m\u001b[1mwandb\u001b[0m: Tracking run with wandb version 0.16.2\n",
      "\u001b[34m\u001b[1mwandb\u001b[0m: Run data is saved locally in \u001b[35m\u001b[1m/data/ephemeral/home/level2-cv-datacentric-cv-10/develop/AJJ/code/wandb/run-20240126_134138-h7j2ojdx\u001b[0m\n",
      "\u001b[34m\u001b[1mwandb\u001b[0m: Run \u001b[1m`wandb offline`\u001b[0m to turn off syncing.\n",
      "\u001b[34m\u001b[1mwandb\u001b[0m: Syncing run \u001b[33mtest_02\u001b[0m\n",
      "\u001b[34m\u001b[1mwandb\u001b[0m: ⭐️ View project at \u001b[34m\u001b[4mhttps://wandb.ai/level2-cv-10-detection/Project03_OCR\u001b[0m\n",
      "\u001b[34m\u001b[1mwandb\u001b[0m: 🚀 View run at \u001b[34m\u001b[4mhttps://wandb.ai/level2-cv-10-detection/Project03_OCR/runs/h7j2ojdx\u001b[0m\n",
      "[Epoch 1]: 100%|█| 13/13 [12:58<00:00, 59.86s/it, Cls loss=0.88, Angle loss=5.01\n",
      "Mean loss: 13.0837 | Elapsed time: 0:12:58.193706\n",
      "\u001b[34m\u001b[1mwandb\u001b[0m:                                                                                \n",
      "\u001b[34m\u001b[1mwandb\u001b[0m: W&B sync reduced upload amount by 14.0%             \n",
      "\u001b[34m\u001b[1mwandb\u001b[0m: \n",
      "\u001b[34m\u001b[1mwandb\u001b[0m: Run history:\n",
      "\u001b[34m\u001b[1mwandb\u001b[0m: epoch ▁▁▁▁▁▁▁▁▁▁▁▁▁\n",
      "\u001b[34m\u001b[1mwandb\u001b[0m:  loss █▇█▆▇▄▄▄▃▃▂▂▁\n",
      "\u001b[34m\u001b[1mwandb\u001b[0m: \n",
      "\u001b[34m\u001b[1mwandb\u001b[0m: Run summary:\n",
      "\u001b[34m\u001b[1mwandb\u001b[0m: epoch 0\n",
      "\u001b[34m\u001b[1mwandb\u001b[0m:  loss 11.12063\n",
      "\u001b[34m\u001b[1mwandb\u001b[0m: \n",
      "\u001b[34m\u001b[1mwandb\u001b[0m: 🚀 View run \u001b[33mtest_02\u001b[0m at: \u001b[34m\u001b[4mhttps://wandb.ai/level2-cv-10-detection/Project03_OCR/runs/h7j2ojdx\u001b[0m\n",
      "\u001b[34m\u001b[1mwandb\u001b[0m: ️⚡ View job at \u001b[34m\u001b[4mhttps://wandb.ai/level2-cv-10-detection/Project03_OCR/jobs/QXJ0aWZhY3RDb2xsZWN0aW9uOjEzMzkyNDgwNA==/version_details/v1\u001b[0m\n",
      "\u001b[34m\u001b[1mwandb\u001b[0m: Synced 6 W&B file(s), 0 media file(s), 2 artifact file(s) and 0 other file(s)\n",
      "\u001b[34m\u001b[1mwandb\u001b[0m: Find logs at: \u001b[35m\u001b[1m./wandb/run-20240126_134138-h7j2ojdx/logs\u001b[0m\n"
     ]
    }
   ],
   "source": [
    "!python train.py --max_epoch 1"
   ]
  },
  {
   "cell_type": "code",
   "execution_count": null,
   "metadata": {},
   "outputs": [],
   "source": []
  }
 ],
 "metadata": {
  "kernelspec": {
   "display_name": "base",
   "language": "python",
   "name": "python3"
  },
  "language_info": {
   "codemirror_mode": {
    "name": "ipython",
    "version": 3
   },
   "file_extension": ".py",
   "mimetype": "text/x-python",
   "name": "python",
   "nbconvert_exporter": "python",
   "pygments_lexer": "ipython3",
   "version": "3.10.13"
  }
 },
 "nbformat": 4,
 "nbformat_minor": 2
}
