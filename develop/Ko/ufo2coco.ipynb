{
 "cells": [
  {
   "cell_type": "code",
   "execution_count": 3,
   "metadata": {},
   "outputs": [],
   "source": [
    "from typing import Dict\n",
    "import json\n",
    "import datetime\n",
    "import os\n",
    "\n",
    "now = datetime.datetime.now()\n",
    "now = now.strftime('%Y-%m-%d %H:%M:%S')\n",
    "\n",
    "input_path = '../../data/medical/ufo/train.json'\n",
    "output_path = '../../data/medical/ufo/train_coco.json'"
   ]
  },
  {
   "cell_type": "code",
   "execution_count": 4,
   "metadata": {},
   "outputs": [],
   "source": [
    "info = {\n",
    "    'year': 2024,\n",
    "    'version': '1.0',\n",
    "    'description': 'OCR Competition Data',\n",
    "    'contributor': 'Naver Boostcamp',\n",
    "    'url': 'https://aistages-api-public-prod.s3.amazonaws.com/app/Competitions/000273/data/data.tar.gz',\n",
    "    'date_created': now\n",
    "}\n",
    "licenses = {\n",
    "    'id': '1',\n",
    "    'name': 'For Naver Boostcamp Competition',\n",
    "    'url': None\n",
    "}\n",
    "categories = [{\n",
    "    'id': 1,\n",
    "    'name': 'word'\n",
    "}]"
   ]
  },
  {
   "cell_type": "code",
   "execution_count": 5,
   "metadata": {},
   "outputs": [],
   "source": [
    "def ufo_to_coco(file: Dict, output_path: str) -> None:\n",
    "    img_id = 1 #COCO는 1부터 시작\n",
    "    annotation_id = 1 #COCO는 1부터 시작\n",
    "    images = []\n",
    "    annotations = []\n",
    "    for fname, data in file.items():\n",
    "        image = {\n",
    "            \"id\": img_id,\n",
    "            \"width\": data['img_w'],\n",
    "            \"height\": data['img_h'],\n",
    "            \"file_name\": fname,\n",
    "            \"license\": 1,\n",
    "            \"flickr_url\": None,\n",
    "            \"coco_url\": None,\n",
    "            \"date_captured\": now\n",
    "        }\n",
    "        images.append(image)\n",
    "        for anno_id, annotation in data['words'].items():\n",
    "            if annotation['illegibility'] == True:\n",
    "                continue\n",
    "            min_x = min(item[0] for item in annotation['points'])\n",
    "            min_y = min(item[1] for item in annotation['points'])\n",
    "            max_x = max(item[0] for item in annotation['points'])\n",
    "            max_y = max(item[1] for item in annotation['points'])\n",
    "            width = max_x - min_x\n",
    "            height = max_y - min_y\n",
    "            coco_annotation = {\n",
    "                \"id\": annotation_id,\n",
    "                \"image_id\": img_id,\n",
    "                \"category_id\": 1,\n",
    "                \"segmentation\": [[value for sublist in annotation['points'] for value in sublist]],\n",
    "                \"area\": width * height,\n",
    "                \"bbox\": [min_x, min_y, width, height],\n",
    "                \"iscrowd\": 0\n",
    "            }\n",
    "            annotations.append(coco_annotation)\n",
    "            annotation_id += 1\n",
    "        img_id += 1\n",
    "    coco = {\n",
    "        'info' : info,\n",
    "        'images' : images,\n",
    "        'annotations' : annotations,\n",
    "        'licenses' : licenses,\n",
    "        'categories' : categories\n",
    "    }\n",
    "    with open(output_path, 'w') as f:\n",
    "        json.dump(coco, f, indent=4)"
   ]
  },
  {
   "cell_type": "code",
   "execution_count": 6,
   "metadata": {},
   "outputs": [],
   "source": [
    "with open(input_path, 'r') as f:\n",
    "    file = json.load(f)\n",
    "ufo_to_coco(file['images'], output_path)"
   ]
  },
  {
   "cell_type": "markdown",
   "metadata": {},
   "source": [
    "## CoCo to labelme"
   ]
  },
  {
   "cell_type": "code",
   "execution_count": 7,
   "metadata": {},
   "outputs": [],
   "source": [
    "def convert_coco_to_labelme(coco_json_path, output_dir):\n",
    "    # COCO 데이터 로드\n",
    "    with open(coco_json_path, 'r') as f:\n",
    "        coco = json.load(f)\n",
    "\n",
    "    # 출력 디렉토리가 없으면 생성\n",
    "    if not os.path.exists(output_dir):\n",
    "        os.makedirs(output_dir)\n",
    "\n",
    "    # 이미지별로 어노테이션 처리\n",
    "    for img in coco['images']:\n",
    "        # LabelMe JSON 구조 생성\n",
    "        labelme_data = {\n",
    "            \"version\": \"4.5.0\",\n",
    "            \"flags\": {},\n",
    "            \"shapes\": [],\n",
    "            \"imagePath\": img['file_name'],\n",
    "            \"imageData\": None,\n",
    "            \"imageHeight\": img['height'],\n",
    "            \"imageWidth\": img['width']\n",
    "        }\n",
    "\n",
    "        # 해당 이미지에 대한 어노테이션 찾기\n",
    "        annotations = [a for a in coco['annotations'] if a['image_id'] == img['id']]\n",
    "        for ann in annotations:\n",
    "            shape = {\n",
    "                \"label\": str(ann['category_id']),\n",
    "                \"points\": ann['segmentation'][0],\n",
    "                \"group_id\": None,\n",
    "                \"shape_type\": \"polygon\",\n",
    "                \"flags\": {}\n",
    "            }\n",
    "            labelme_data[\"shapes\"].append(shape)\n",
    "\n",
    "        # LabelMe 형식의 JSON 파일 저장\n",
    "        labelme_json_path = os.path.join(output_dir, os.path.splitext(img['file_name'])[0] + '.json')\n",
    "        with open(labelme_json_path, 'w') as f:\n",
    "            json.dump(labelme_data, f, indent=2)\n"
   ]
  },
  {
   "cell_type": "code",
   "execution_count": 9,
   "metadata": {},
   "outputs": [],
   "source": [
    "# 사용 예시\n",
    "convert_coco_to_labelme('../../data/medical/ufo/train_coco.json', '../../data/medical/ufo/directory')"
   ]
  }
 ],
 "metadata": {
  "kernelspec": {
   "display_name": "base",
   "language": "python",
   "name": "python3"
  },
  "language_info": {
   "codemirror_mode": {
    "name": "ipython",
    "version": 3
   },
   "file_extension": ".py",
   "mimetype": "text/x-python",
   "name": "python",
   "nbconvert_exporter": "python",
   "pygments_lexer": "ipython3",
   "version": "3.10.13"
  }
 },
 "nbformat": 4,
 "nbformat_minor": 2
}
