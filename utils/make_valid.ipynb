{
 "cells": [
  {
   "cell_type": "markdown",
   "metadata": {},
   "source": [
    "# train.json → save_train.json"
   ]
  },
  {
   "cell_type": "code",
   "execution_count": 6,
   "metadata": {},
   "outputs": [
    {
     "name": "stdout",
     "output_type": "stream",
     "text": [
      "save_train.json이 이미 존재\n"
     ]
    }
   ],
   "source": [
    "import json\n",
    "import os\n",
    "\n",
    "json_file_path = \"../data/medical/ufo/train.json\"\n",
    "new_file_path = \"../data/medical/ufo/save_train.json\"\n",
    "\n",
    "# save_train.json 파일이 존재하지 않을 때만 이름 변경 실행\n",
    "if not os.path.exists(new_file_path):\n",
    "    os.rename(json_file_path, new_file_path)\n",
    "    print('변경 완료')\n",
    "    with open(new_file_path, 'r') as json_file:\n",
    "        data = json.load(json_file)\n",
    "else:\n",
    "    with open(new_file_path, 'r') as json_file:\n",
    "        data = json.load(json_file)\n",
    "    print(\"save_train.json이 이미 존재\")\n"
   ]
  },
  {
   "cell_type": "markdown",
   "metadata": {},
   "source": [
    "# Valid Set 제작"
   ]
  },
  {
   "cell_type": "code",
   "execution_count": 7,
   "metadata": {},
   "outputs": [
    {
     "data": {
      "text/plain": [
       "'\\ndrp.en_ko.in_house.deepnatural_002441  구겨진 이미지\\ndrp.en_ko.in_house.deepnatural_002469  스캔 도장\\ndrp.en_ko.in_house.deepnatural_002474  뒷배경 갈색\\ndrp.en_ko.in_house.deepnatural_002491  흐린 이미지\\ndrp.en_ko.in_house.deepnatural_002496  뒷배경 하얀색\\ndrp.en_ko.in_house.deepnatural_002544  가로 배경있음\\ndrp.en_ko.in_house.deepnatural_002624  가로 기울어짐\\ndrp.en_ko.in_house.deepnatural_002628  구겨짐\\ndrp.en_ko.in_house.deepnatural_002850  정상 스캔\\ndrp.en_ko.in_house.deepnatural_003234 가로  흐림\\ndrp.en_ko.in_house.deepnatural_003252  기울어짐\\ndrp.en_ko.in_house.deepnatural_003347  흐림\\ndrp.en_ko.in_house.deepnatural_003435  정상 스캔\\ndrp.en_ko.in_house.deepnatural_003729  가로 글자 작음\\ndrp.en_ko.in_house.deepnatural_003762    배경 있음\\ndrp.en_ko.in_house.deepnatural_003778  스캔, 흐림\\ndrp.en_ko.in_house.deepnatural_003787  뒷 배경 흰색\\ndrp.en_ko.in_house.deepnatural_003811  정상 스캔\\ndrp.en_ko.in_house.deepnatural_003903  정상 사진\\ndrp.en_ko.in_house.deepnatural_003958  기울어진 사진\\n#drp.en_ko.in_house.deepnatural_003979  정상 사진\\n'"
      ]
     },
     "execution_count": 7,
     "metadata": {},
     "output_type": "execute_result"
    }
   ],
   "source": [
    "'''\n",
    "drp.en_ko.in_house.deepnatural_002441  구겨진 이미지\n",
    "drp.en_ko.in_house.deepnatural_002469  스캔 도장\n",
    "drp.en_ko.in_house.deepnatural_002474  뒷배경 갈색\n",
    "drp.en_ko.in_house.deepnatural_002491  흐린 이미지\n",
    "drp.en_ko.in_house.deepnatural_002496  뒷배경 하얀색\n",
    "drp.en_ko.in_house.deepnatural_002544  가로 배경있음\n",
    "drp.en_ko.in_house.deepnatural_002624  가로 기울어짐\n",
    "drp.en_ko.in_house.deepnatural_002628  구겨짐\n",
    "drp.en_ko.in_house.deepnatural_002850  정상 스캔\n",
    "drp.en_ko.in_house.deepnatural_003234 가로  흐림\n",
    "drp.en_ko.in_house.deepnatural_003252  기울어짐\n",
    "drp.en_ko.in_house.deepnatural_003347  흐림\n",
    "drp.en_ko.in_house.deepnatural_003435  정상 스캔\n",
    "drp.en_ko.in_house.deepnatural_003729  가로 글자 작음\n",
    "drp.en_ko.in_house.deepnatural_003762    배경 있음\n",
    "drp.en_ko.in_house.deepnatural_003778  스캔, 흐림\n",
    "drp.en_ko.in_house.deepnatural_003787  뒷 배경 흰색\n",
    "drp.en_ko.in_house.deepnatural_003811  정상 스캔\n",
    "drp.en_ko.in_house.deepnatural_003903  정상 사진\n",
    "drp.en_ko.in_house.deepnatural_003958  기울어진 사진\n",
    "#drp.en_ko.in_house.deepnatural_003979  정상 사진\n",
    "'''"
   ]
  },
  {
   "cell_type": "code",
   "execution_count": 8,
   "metadata": {},
   "outputs": [],
   "source": [
    "img_list = ['drp.en_ko.in_house.deepnatural_002441.jpg',\n",
    "'drp.en_ko.in_house.deepnatural_002469.jpg',\n",
    "'drp.en_ko.in_house.deepnatural_002474.jpg',\n",
    "'drp.en_ko.in_house.deepnatural_002491.jpg',\n",
    "'drp.en_ko.in_house.deepnatural_002496.jpg',\n",
    "'drp.en_ko.in_house.deepnatural_002544.jpg', \n",
    "'drp.en_ko.in_house.deepnatural_002624.jpg',\n",
    "'drp.en_ko.in_house.deepnatural_002628.jpg',\n",
    "'drp.en_ko.in_house.deepnatural_002850.jpg',\n",
    "'drp.en_ko.in_house.deepnatural_003234.jpg',\n",
    "'drp.en_ko.in_house.deepnatural_003252.jpg',\n",
    "'drp.en_ko.in_house.deepnatural_003347.jpg',\n",
    "'drp.en_ko.in_house.deepnatural_003435.jpg',\n",
    "'drp.en_ko.in_house.deepnatural_003729.jpg',\n",
    "'drp.en_ko.in_house.deepnatural_003762.jpg',\n",
    "'drp.en_ko.in_house.deepnatural_003778.jpg',\n",
    "'drp.en_ko.in_house.deepnatural_003787.jpg',\n",
    "'drp.en_ko.in_house.deepnatural_003811.jpg',\n",
    "'drp.en_ko.in_house.deepnatural_003903.jpg',\n",
    "'drp.en_ko.in_house.deepnatural_003958.jpg',]"
   ]
  },
  {
   "cell_type": "code",
   "execution_count": 9,
   "metadata": {},
   "outputs": [],
   "source": [
    "train_ann = dict()\n",
    "valid_ann = dict()\n",
    "\n",
    "train_ann['images'] = {img: data['images'][img] for img in data['images'] if img not in img_list}\n",
    "valid_ann['images'] = {img: data['images'][img] for img in data['images'] if img in img_list}"
   ]
  },
  {
   "cell_type": "code",
   "execution_count": 10,
   "metadata": {},
   "outputs": [
    {
     "name": "stdout",
     "output_type": "stream",
     "text": [
      "train 개수 :  80\n",
      "valid 개수 :  20\n"
     ]
    }
   ],
   "source": [
    "print('train 개수 : ', len(train_ann['images']))\n",
    "print('valid 개수 : ', len(valid_ann['images']))"
   ]
  },
  {
   "cell_type": "code",
   "execution_count": 11,
   "metadata": {},
   "outputs": [],
   "source": [
    "with open('../data/medical/ufo/valid.json', 'w', encoding='utf-8') as file:\n",
    "    json.dump(valid_ann, file, ensure_ascii=False, indent=4)\n",
    "\n",
    "with open('../data/medical/ufo/train.json', 'w', encoding='utf-8') as file:\n",
    "    json.dump(train_ann, file, ensure_ascii=False, indent=4)"
   ]
  },
  {
   "cell_type": "markdown",
   "metadata": {},
   "source": [
    "# train, valid img 폴더 제작"
   ]
  },
  {
   "cell_type": "code",
   "execution_count": 7,
   "metadata": {},
   "outputs": [
    {
     "name": "stdout",
     "output_type": "stream",
     "text": [
      "폴더 복사 완료\n"
     ]
    }
   ],
   "source": [
    "import shutil\n",
    "\n",
    "train_folder = \"/data/ephemeral/home/level2-cv-datacentric-cv-10/data/medical/img/train\"\n",
    "valid_folder = \"/data/ephemeral/home/level2-cv-datacentric-cv-10/data/medical/img/valid\"\n",
    "\n",
    "# 폴더 복사\n",
    "if not os.path.exists(valid_folder):\n",
    "    shutil.copytree(train_folder, valid_folder)\n",
    "    print(\"폴더 복사 완료\")\n",
    "else:\n",
    "    print(\"valid 폴더가 이미 존재\")"
   ]
  },
  {
   "cell_type": "code",
   "execution_count": null,
   "metadata": {},
   "outputs": [],
   "source": []
  }
 ],
 "metadata": {
  "kernelspec": {
   "display_name": "base",
   "language": "python",
   "name": "python3"
  },
  "language_info": {
   "codemirror_mode": {
    "name": "ipython",
    "version": 3
   },
   "file_extension": ".py",
   "mimetype": "text/x-python",
   "name": "python",
   "nbconvert_exporter": "python",
   "pygments_lexer": "ipython3",
   "version": "3.10.13"
  }
 },
 "nbformat": 4,
 "nbformat_minor": 2
}
